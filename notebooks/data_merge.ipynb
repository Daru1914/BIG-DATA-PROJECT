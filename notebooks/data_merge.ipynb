{
 "cells": [
  {
   "cell_type": "code",
   "execution_count": 3,
   "metadata": {},
   "outputs": [
    {
     "name": "stderr",
     "output_type": "stream",
     "text": [
      "Skipping line 36190: unexpected end of data\n"
     ]
    }
   ],
   "source": [
    "import pandas as pd\n",
    " \n",
    "df_csv_append = pd.DataFrame()\n",
    " \n",
    "# append the CSV files\n",
    "for i in range(1, 24):\n",
    "    try:\n",
    "        df = pd.read_csv(\"../data/restaurant_menus_part_%d.csv\" % i, quotechar='\"', engine='python', error_bad_lines=False)\n",
    "        df_csv_append = df_csv_append.append(df, ignore_index=True)\n",
    "    except pd.ParserError:\n",
    "        print(\"Parser error: %d\" % i)\n",
    " \n",
    "df_csv_append.to_csv(\"../data/test_merged_menus.csv\")"
   ]
  }
 ],
 "metadata": {
  "kernelspec": {
   "display_name": "Python 3",
   "language": "python",
   "name": "python3"
  },
  "language_info": {
   "codemirror_mode": {
    "name": "ipython",
    "version": 2
   },
   "file_extension": ".py",
   "mimetype": "text/x-python",
   "name": "python",
   "nbconvert_exporter": "python",
   "pygments_lexer": "ipython2",
   "version": "2.7.18"
  },
  "orig_nbformat": 4
 },
 "nbformat": 4,
 "nbformat_minor": 2
}
