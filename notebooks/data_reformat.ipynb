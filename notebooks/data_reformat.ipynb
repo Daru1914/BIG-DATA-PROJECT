{
 "cells": [
  {
   "cell_type": "code",
   "execution_count": 4,
   "metadata": {},
   "outputs": [],
   "source": [
    "chunk_size = 40000\n",
    "def write_chunk(part, lines):\n",
    "    with open('../data/restaurant_menus_part_'+ str(part) +'.csv', 'w') as f_out:\n",
    "        f_out.write(header)\n",
    "        f_out.writelines(lines)\n",
    "with open(\"../data/restaurant-menus.csv\", \"r\") as f:\n",
    "    count = 0\n",
    "    header = f.readline()\n",
    "    lines = []\n",
    "    for line in f:\n",
    "        count += 1\n",
    "        lines.append(line)\n",
    "        if count % chunk_size == 0:\n",
    "            write_chunk(count // chunk_size, lines)\n",
    "            lines = []\n",
    "    # write remainder\n",
    "    if len(lines) > 0:\n",
    "        write_chunk((count // chunk_size) + 1, lines)"
   ]
  }
 ],
 "metadata": {
  "kernelspec": {
   "display_name": "Python 3",
   "language": "python",
   "name": "python3"
  },
  "language_info": {
   "codemirror_mode": {
    "name": "ipython",
    "version": 2
   },
   "file_extension": ".py",
   "mimetype": "text/x-python",
   "name": "python",
   "nbconvert_exporter": "python",
   "pygments_lexer": "ipython2",
   "version": "2.7.18"
  },
  "orig_nbformat": 4
 },
 "nbformat": 4,
 "nbformat_minor": 2
}
